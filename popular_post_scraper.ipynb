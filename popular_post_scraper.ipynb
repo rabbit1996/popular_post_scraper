{
 "cells": [
  {
   "cell_type": "code",
   "execution_count": 220,
   "metadata": {},
   "outputs": [],
   "source": [
    "import requests\n",
    "from bs4 import BeautifulSoup\n",
    "import os\n",
    "import time"
   ]
  },
  {
   "cell_type": "code",
   "execution_count": 233,
   "metadata": {},
   "outputs": [],
   "source": [
    "class scraper:\n",
    "    \n",
    "    def __init__(self):\n",
    "        self.requests_headers = {\n",
    "        \"User-Agent\" : \"Mozilla/5.0 (Windows NT 10.0; Win64; x64; ; NCLIENT50_AAP5EF3046787B) AppleWebKit/537.36 (KHTML, like Gecko) Chrome/89.0.4389.114 Safari/537.36\"\n",
    "        }\n",
    "\n",
    "\n",
    "class dogdrip_scrap(scraper):\n",
    "    \n",
    "    def __init__(self,scrap_type = 0, page = 1):\n",
    "        \n",
    "        \"\"\"page : 페이지 넘버, \n",
    "        scrap_type : 스크래핑 url 선택, 0 : 개드립 인기글, 1 : 개드립,\n",
    "        2 : 유저 개드립 인기글, 3 : 유저 개드립\n",
    "        index_type : 게시판 별 첫번째 글 순서, 공지가 추가될 시 변할 수 있음.\n",
    "        \"\"\"\n",
    "        \n",
    "        super().__init__() # requests_headers\n",
    "        url_list = [f'https://www.dogdrip.net/index.php?mid=dogdrip&sort_index=popular&page=',\n",
    "                    f'https://www.dogdrip.net/index.php?mid=dogdrip&page=',\n",
    "                    f'https://www.dogdrip.net/index.php?mid=userdog&sort_index=popular&page=',\n",
    "                   f'https://www.dogdrip.net/index.php?mid=userdog&page=']\n",
    "        \n",
    "        self.url = url_list[scrap_type] + str(page)\n",
    "        \n",
    "        # 게시판별 첫번째 글 순서\n",
    "        index_list = [1,4,1,6]\n",
    "        self.index_type = index_list[scrap_type]\n",
    "        \n",
    "    def chk_latest_title(self,recent_title):\n",
    "        \"\"\"최신글 업데이트 확인 메소드, latest.txt에 최신글 제목을 저장\"\"\"\n",
    "        \n",
    "        try:\n",
    "            latest = open('latest.txt','r',-1,'utf-8')\n",
    "        except FileNotFoundError:\n",
    "            latest = open('latest.txt','w+'-1,'utf-8')\n",
    "            latest.close()\n",
    "            return False\n",
    "        else:\n",
    "            title = latest.read()\n",
    "            latest.close()\n",
    "\n",
    "            if title == recent_title:\n",
    "                # 글 업데이트 확인\n",
    "                return True\n",
    "            else:\n",
    "                print('최신 글 :',recent_title)\n",
    "                latest = open('latest.txt', 'w+', -1, 'utf-8')\n",
    "                latest.write(recent_title)\n",
    "                return False\n",
    "    \n",
    "    def do_scrap(self):\n",
    "        \"\"\"개드립 커뮤니티 스크랩 메소드\"\"\"\n",
    "        response = requests.get(self.url,headers = requests_headers)\n",
    "        \n",
    "        if response.status_code == 200: # 사이트 정상 응답\n",
    "            \n",
    "            html = response.text\n",
    "            soup = BeautifulSoup(html, 'html.parser')\n",
    "\n",
    "            post_list = {} # 스크랩 정보\n",
    "\n",
    "            # 게시글 제목\n",
    "            title = soup.select_one(f'#main > div > div.eq.section.secontent.background-color-content > div > div > table > tbody > tr:nth-child({self.index_type}) > td.title > span > a > span.ed.title-link')\n",
    "            \n",
    "            if self.chk_latest_title(title.text): \n",
    "                # 글 업데이트 확인\n",
    "                print(\"글이 올라오지 않았습니다.\")\n",
    "                return\n",
    "            post_list['title'] = title\n",
    "            \n",
    "            # 게시글 링크\n",
    "            if self.index_type % 2 != 0:\n",
    "                link = 'https://www.dogdrip.net/' + soup.find_all('a',{'class':'ed link-reset'})[self.index_type - 1]['href']\n",
    "            else:\n",
    "                link = soup.find_all('a',{'class':'ed link-reset'})[self.index_type - 1]['href']\n",
    "            post_list['link'] = link\n",
    "\n",
    "            # 게시글 컨텐츠\n",
    "            content_response = requests.get(link, headers = requests_headers)\n",
    "            content_html = content_response.text\n",
    "            content_soup = BeautifulSoup(content_html, 'html.parser')\n",
    "        #     content = content_soup.select('p')\n",
    "            content = content_soup.select_one('#article_1 > div')\n",
    "\n",
    "            content_list = \"\"\n",
    "            for i,content in enumerate(content):\n",
    "                if content.next_element.name == 'img':\n",
    "                    src = content.next_element['src']\n",
    "                    content = '<p><img src='+'https://www.dogdrip.net' + src + '></p>' \n",
    "                content_list += str(content)\n",
    "            post_list['content'] = content_list\n",
    "\n",
    "            # html 변환 및 저장\n",
    "            html_file = open('dogdrip.html', 'w+', -1, 'utf-8')\n",
    "            html_file.write(content_list)\n",
    "            html_file.close()\n",
    "\n",
    "            return post_list\n",
    "    \n",
    "        else:\n",
    "            print(response.status_code)\n",
    "            return\n",
    "        \n",
    "    def __str__(self):\n",
    "        return self.url"
   ]
  },
  {
   "cell_type": "code",
   "execution_count": 236,
   "metadata": {},
   "outputs": [],
   "source": [
    "test = dogdrip_scrap(1)"
   ]
  },
  {
   "cell_type": "code",
   "execution_count": 237,
   "metadata": {},
   "outputs": [
    {
     "name": "stdout",
     "output_type": "stream",
     "text": [
      "최신 글 : 현직 공무원이 알려주는 공문서 작성법\n"
     ]
    },
    {
     "data": {
      "text/plain": [
       "{'title': <span class=\"ed title-link\">현직 공무원이 알려주는 공문서 작성법</span>,\n",
       " 'link': 'https://www.dogdrip.net/319027974',\n",
       " 'content': '<p><img src=https://www.dogdrip.net/dvs/d/21/04/15/c8a3026eab0c7a8e6577eb0b669ce12c.jpg></p>'}"
      ]
     },
     "execution_count": 237,
     "metadata": {},
     "output_type": "execute_result"
    }
   ],
   "source": [
    "test.do_scrap()"
   ]
  },
  {
   "cell_type": "code",
   "execution_count": 157,
   "metadata": {},
   "outputs": [
    {
     "name": "stdout",
     "output_type": "stream",
     "text": [
      "최신 글 : \"한국 수도가 서울인건 상식맞지?\".jpg\n",
      "https://www.dogdrip.net/319011005\n"
     ]
    },
    {
     "data": {
      "text/plain": [
       "{'link': 'https://www.dogdrip.net/319011005',\n",
       " 'content': '<p><img src=https://www.dogdrip.net/dvs/d/21/04/15/99df7b05682c93b51d86cb79e287a535.jpg></p>\\n<p>\\xa0</p>\\n<p>\\xa0</p>\\n<p>\\xa0</p>\\n<p><img src=https://www.dogdrip.net/dvs/d/21/04/15/12a72ea219d47b68701dd0d4e2c444f1.jpg></p>\\n<p>\\xa0</p>'}"
      ]
     },
     "execution_count": 157,
     "metadata": {},
     "output_type": "execute_result"
    }
   ],
   "source": [
    "# 페이지\n",
    "page = '1'\n",
    "\n",
    "# 주소\n",
    "url = f'https://www.dogdrip.net/index.php?mid=dogdrip&page=' + page\n",
    "\n",
    "# 사용자 위장 헤더\n",
    "requests_headers = {\n",
    "    \"User-Agent\" : \"Mozilla/5.0 (Windows NT 10.0; Win64; x64; ; NCLIENT50_AAP5EF3046787B) AppleWebKit/537.36 (KHTML, like Gecko) Chrome/89.0.4389.114 Safari/537.36\"\n",
    "}\n",
    "\n",
    "\n",
    "response = requests.get(url,headers = requests_headers)\n",
    "\n",
    "# 개드립 인기글 스크래핑\n",
    "dogdrip_scraper()"
   ]
  },
  {
   "cell_type": "code",
   "execution_count": 153,
   "metadata": {
    "scrolled": true
   },
   "outputs": [],
   "source": [
    "def dogdrip_scraper():\n",
    "    if response.status_code == 200:\n",
    "        html = response.text\n",
    "        soup = BeautifulSoup(html, 'html.parser')\n",
    "\n",
    "        post_list = {}\n",
    "        \n",
    "        # 게시글 제목\n",
    "#         title = soup.select_one('#main > div > div.eq.section.secontent.background-color-content > div > div > table > tbody > tr:nth-child(1) > td.title > span > a > span.ed.title-link')\n",
    "        title = soup.select_one('#main > div > div.eq.section.secontent.background-color-content > div > div > table > tbody > tr:nth-child(4) > td.title > span > a > span.ed.title-link')\n",
    "        if chk_latest_title(title.text): \n",
    "            # 글 업데이트 확인\n",
    "            print(\"글이 올라오지 않았습니다.\")\n",
    "            return\n",
    "        \n",
    "        # 게시글 링크\n",
    "#         link = 'https://www.dogdrip.net/' + soup.find_all('a',{'class':'ed link-reset'})[0]['href']\n",
    "        link = soup.find_all('a',{'class':'ed link-reset'})[3]['href']\n",
    "        post_list['link'] = link\n",
    "        print(link)\n",
    "        \n",
    "        # 게시글 컨텐츠\n",
    "        content_response = requests.get(link, headers = requests_headers)\n",
    "        content_html = content_response.text\n",
    "        content_soup = BeautifulSoup(content_html, 'html.parser')\n",
    "    #     content = content_soup.select('p')\n",
    "        content = content_soup.select_one('#article_1 > div')\n",
    "\n",
    "        content_list = \"\"\n",
    "        for i,content in enumerate(content):\n",
    "            if content.next_element.name == 'img':\n",
    "                src = content.next_element['src']\n",
    "                content = '<p><img src='+'https://www.dogdrip.net' + src + '></p>' \n",
    "            content_list += str(content)\n",
    "        post_list['content'] = content_list\n",
    "\n",
    "        # html 변환 및 저장\n",
    "        html_file = open('test.html', 'w+', -1, 'utf-8')\n",
    "        html_file.write(content_list)\n",
    "        html_file.close()\n",
    "\n",
    "        return post_list\n",
    "    \n",
    "    else:\n",
    "        print(response.status_code)\n",
    "        return"
   ]
  },
  {
   "cell_type": "code",
   "execution_count": 46,
   "metadata": {},
   "outputs": [],
   "source": [
    "def chk_latest_title(recent_title):\n",
    "    try:\n",
    "        latest = open('latest.txt','r',-1,'utf-8')\n",
    "    except FileNotFoundError:\n",
    "        latest = open('latest.txt','w+'-1,'utf-8')\n",
    "        latest.close()\n",
    "        return False\n",
    "    else:\n",
    "        title = latest.read()\n",
    "        latest.close()\n",
    "        \n",
    "        if title == recent_title:\n",
    "            # 글 업데이트 확인\n",
    "            return True\n",
    "        else:\n",
    "            print('최신 글 :',recent_title)\n",
    "            latest = open('latest.txt', 'w+', -1, 'utf-8')\n",
    "            latest.write(recent_title)\n",
    "            return False"
   ]
  },
  {
   "cell_type": "code",
   "execution_count": null,
   "metadata": {},
   "outputs": [],
   "source": [
    "while True:\n",
    "    \n",
    "    \n",
    "    time.sleep(30) # 30초 휴식\n",
    "    "
   ]
  },
  {
   "cell_type": "code",
   "execution_count": 56,
   "metadata": {},
   "outputs": [
    {
     "name": "stdout",
     "output_type": "stream",
     "text": [
      "글이 올라오지 않았습니다.\n"
     ]
    }
   ],
   "source": [
    "dogdrip_scraper()"
   ]
  },
  {
   "cell_type": "code",
   "execution_count": 156,
   "metadata": {},
   "outputs": [],
   "source": [
    "latest = open('latest.txt','r')\n",
    "latest.close()"
   ]
  },
  {
   "cell_type": "code",
   "execution_count": null,
   "metadata": {},
   "outputs": [],
   "source": []
  }
 ],
 "metadata": {
  "kernelspec": {
   "display_name": "Python 3",
   "language": "python",
   "name": "python3"
  },
  "language_info": {
   "codemirror_mode": {
    "name": "ipython",
    "version": 3
   },
   "file_extension": ".py",
   "mimetype": "text/x-python",
   "name": "python",
   "nbconvert_exporter": "python",
   "pygments_lexer": "ipython3",
   "version": "3.7.4"
  }
 },
 "nbformat": 4,
 "nbformat_minor": 4
}
